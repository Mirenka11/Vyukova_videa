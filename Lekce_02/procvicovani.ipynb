{
 "cells": [
  {
   "cell_type": "markdown",
   "id": "cc7d360c",
   "metadata": {},
   "source": [
    "### Z minulé lekce byste si měli znát:\n",
    "* **počítačový program** = posloupnost instrukcí, která popisuje realizaci dané úlohy počítačem. Pro typický PC je nejzákladnější program jádro operačního systému\n",
    "* **algoritmus** = konečná sekvence jednoduchých kroků, která zpracuje vstupní hodnoty na výstupní (např. recept, návod na sestavení IKEA nábytku, výpočet matematické úlohy). Je univerzální, tedy řeší nejen jeden problém, ale celou třídu problémů. \n",
    "* Jak si udělat hranolky :)\n",
    "* **programovací jazyk** = \"dorozumívací prostředek\" mezi člověkem a počítačem.\n",
    " * **příkazy a funkce** jsou \"slovní zásoba\" tohoto jazyka. Některé jsou v jazyce již vestavěné (např `print`), další si můžeme nadefinovat sami (to se naučíme později)\n",
    " * **syntax** představuje \"gramatická pravidla\" tohoto jazyka   \n",
    " * **proměnné** jsou naše \"pojmenování\" pro data uložená v paměti\n",
    " * **operátory** jsou zobrazení vstupních hodnot na výstupní (např. `+`, `<`, `=`, ...)\n",
    "* jak (ne)pojmenovávat proměnné - volíme většinou výstižná slova (bez diakritiky), nepoužíváme názvy funkcí jako jméno proměnné\n",
    "* existence **datových typů** - aby program věděl, jestli nějaký konkrétní řetězec jedniček a nul v paměti je číslo, písmeno, nebo něco jiného.\n",
    "* příkazy `print()` a `input()`\n"
   ]
  },
  {
   "cell_type": "markdown",
   "id": "6833ae4d",
   "metadata": {},
   "source": [
    "#### Příklady ze 2. cvičení ZPRO\n",
    "Ukázkové příklady: `print()`"
   ]
  },
  {
   "cell_type": "code",
   "execution_count": null,
   "id": "6d286c76",
   "metadata": {},
   "outputs": [],
   "source": [
    "print(\"Hello, world!\")\n",
    "print(\"Výsledek je\", 42)\n",
    "print(1 + 2 * 3 - 4 / 5)"
   ]
  },
  {
   "cell_type": "markdown",
   "id": "afe87dad",
   "metadata": {},
   "source": [
    "Ukázkové příklady: proměnné"
   ]
  },
  {
   "cell_type": "code",
   "execution_count": null,
   "id": "ef2dad1d",
   "metadata": {},
   "outputs": [],
   "source": [
    "a = 1\n",
    "b = 2\n",
    "c = 2 * (a + b)"
   ]
  },
  {
   "cell_type": "markdown",
   "id": "2462c3c0",
   "metadata": {},
   "source": [
    "Ukázkové příklady: `input()`"
   ]
  },
  {
   "cell_type": "code",
   "execution_count": null,
   "id": "47d7b323",
   "metadata": {},
   "outputs": [],
   "source": [
    "text = input(\"Zadej text:\") \n",
    "# tady není třeba specifikovat typ, input vše automaticky čte jako string - tedy řetězec znaků\n",
    "print(\"Zadal jsi\", text)"
   ]
  },
  {
   "cell_type": "markdown",
   "id": "26cd3440",
   "metadata": {},
   "source": [
    "#### Řešené příklady z hodiny"
   ]
  },
  {
   "cell_type": "markdown",
   "id": "e63ed53b",
   "metadata": {},
   "source": [
    "1. Napište program, který spočítá a vypíše počet sekund v roce."
   ]
  },
  {
   "cell_type": "code",
   "execution_count": null,
   "id": "b9bf2f23",
   "metadata": {},
   "outputs": [],
   "source": [
    "# varianta 1: jdeme na to postupně\n",
    "sekund_v_minute = 60\n",
    "minut_v_hodine = 60 \n",
    "hodin_v_dni = 24\n",
    "dni_v_roce = 365\n",
    "\n",
    "sekund_v_roce = sekund_v_minute * minut_v_hodine * hodin_v_dni * dni_v_roce\n",
    "print(f\"Počet sekund v roce je {sekund_v_roce}\")\n",
    "\n",
    "# varianta 2: vše nacpeme do jednoho řádku\n",
    "print(\"Počet sekund v roce je\", 60 * 60 * 24 * 365)"
   ]
  },
  {
   "cell_type": "markdown",
   "id": "50eb0e84",
   "metadata": {},
   "source": [
    "Napište program, který spočítá cenu nafty potřebné na cestu osobním autem z Prahy do Ostravy a zpět. \n",
    "* vzdálenost po dálnici D1 je 380 km\n",
    "* auto má průměrnou spotřebu 5.1 l/100 km \n",
    "* aktuální cena nafty je 35.90 Kč/l \n",
    "\n",
    "Pro jaký minimální počet cestujících je cesta autem výhodnější než cesta vlakem?"
   ]
  },
  {
   "cell_type": "code",
   "execution_count": null,
   "id": "f25160a7",
   "metadata": {},
   "outputs": [
    {
     "name": "stdout",
     "output_type": "stream",
     "text": [
      "Cena cesty autem je 1391.48 Kč\n",
      "Cesta autem je výhodnější než cesta vlakem pro minimálně 3 studentů nebo 2 dospělých.\n"
     ]
    }
   ],
   "source": [
    "import math # potřebujeme pro zaokrouhlení nahoru\n",
    "\n",
    "vzdalenost_km = 2*380 # km, cesta tam a zpět\n",
    "spotreba = 5.1 # l/100km\n",
    "cena_nafty = 35.90 # Kč/l\n",
    "cena_cesty = (vzdalenost_km / 100) * spotreba * cena_nafty\n",
    "\n",
    "print(f\"Cena cesty autem je {cena_cesty:.2f} Kč\")\n",
    "\n",
    "cena_student = 234 # Kč, jednosměrná jízdenka student\n",
    "cena_dospely = 469 # Kč, jednosměrná jízdenka dospělý\n",
    "pocet_studentu = math.ceil(cena_cesty / (2 * cena_student)) # math.ceil() zaokrouhlí nahoru\n",
    "pocet_dospelych = math.ceil(cena_cesty / (2 * cena_dospely))\n",
    "\n",
    "print(f\"Cesta autem je výhodnější než cesta vlakem pro minimálně {pocet_studentu} studentů nebo {pocet_dospelych} dospělých.\")"
   ]
  }
 ],
 "metadata": {
  "kernelspec": {
   "display_name": "Python 3",
   "language": "python",
   "name": "python3"
  },
  "language_info": {
   "codemirror_mode": {
    "name": "ipython",
    "version": 3
   },
   "file_extension": ".py",
   "mimetype": "text/x-python",
   "name": "python",
   "nbconvert_exporter": "python",
   "pygments_lexer": "ipython3",
   "version": "3.11.9"
  }
 },
 "nbformat": 4,
 "nbformat_minor": 5
}

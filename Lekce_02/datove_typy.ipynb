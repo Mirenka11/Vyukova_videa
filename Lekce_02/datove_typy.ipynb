{
 "cells": [
  {
   "cell_type": "markdown",
   "id": "99ba0e7f",
   "metadata": {},
   "source": []
  }
 ],
 "metadata": {
  "language_info": {
   "name": "python"
  }
 },
 "nbformat": 4,
 "nbformat_minor": 5
}

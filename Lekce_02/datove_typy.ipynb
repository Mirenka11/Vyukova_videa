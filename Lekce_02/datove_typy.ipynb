{
 "cells": [
  {
   "cell_type": "markdown",
   "id": "99ba0e7f",
   "metadata": {},
   "source": [
    "## K čemu potřebujeme datové typy? \n",
    "Jak jsem již zmínila dříve, data jsou v počítači ukládána jako řetězec jedniček a nul (na hardwarové úrovni je to pak zjednodušeně řečeno přítomnost či nepřítomnost el.náboje). Jedné takové jedničce nebo nule říkáme **bit** a jedná se o základní jednotku informace v počítači. Protože s jedním bitem moc slávy neuděláme, sdružují se bity do skupin po osmi, těm se říká **byte**\\[B\\]. 1 B může reprezentovat až 2<sup>8</sup> = 256 různých hodnot.\n",
    "\n",
    "Při provádění výpočtů procesor načítá data z paměti (v případě PC se jedná o RAM) a následně do ní i zapisuje výsledky. Takovýto systém je však pro člověka nečitelný, proto se pro uživatele tato data převádějí do nějakého \"čitelnějšího\" formátu (číslo v desítkové soustavě, písmeno, pixel o určité barvě, ...).Převod z binárních hodnot do \"lidsky čitelných\" hodnot záleží na daném **kódování**. \n",
    "### Kódování\n",
    "Obecně se jedná o pevně stanovený způsob záznamu informace. Opět se toto netýká jen počítačů, kódování je například i:\n",
    "* zápis hlásek pomocí písmen\n",
    "* notový zápis hudby\n",
    "* \"pojmenovávání\" barev pomocí RGB/CMYK/...\n",
    "Pro naše účely nás nejvíce zajímají kódování, které mapují sekvence jedniček a nul o určité délce, na pro lidi čitelné symboly. \n",
    "\n",
    "#### Kódování celých čísel\n",
    "Kladná čísla kódujeme pomocí převodu do dvojkové soustavy, pro vyjádření záporných čísel se pak používá tzv. dvojkový doplněk. \n",
    "Kódování celých čísel má svá specifika a limitace: \n",
    "* pro jedno číslo je vyhrazen určitý počet bitů - existuje tedy nejvyšší možná hodnota, kterou můžeme číslem daného typu reprezentovat\n",
    "* bez ohledu na počet bitů máme k dospozici sudý počet hodnot, ale musíme nějak reprezentovat nulu, což nás nechává s lichým počtem hodnot pro nenulová čísla \n",
    " * buď budeme mít různý počet kladných a záporných čísel (např. od -128 do 127)\n",
    " * nebo budeme mít dvě reprezentace nuly, abychom měli stejně kladných i záporných čísel\n",
    "Naštěstí \"defaultní\" datový typ pro celá čísla `int` je v Pythonu dost velký (alespoň 32 bitů, tedy 4 B), tedy na limitace co se velikosti čísla týče pravděpodobně nenarazíte (a pokud ano, tak jste něco udělali hooodně špatně :-)). \n",
    "\n",
    "#### Kódování znaků\n",
    "Pro kódování zanků se používají různé standardy, jako např. ASCII, UTF8 a další. Všechny fungují na tom principu, že každému znaku přiřazují číselnou hodnotu. Samozřejmě počet znaků, které takto můžeme kódovat je omezený počtem bitů, které jsou pro znak vyhrazeny (např. ASCII je sedmibitové, tedy může reprezentovat jen 128 znaků a \"vejdou\" se do něj jen velká a malá písmena bez diakritiky, číslice a pár dalších speciálních znaků). \n",
    "\n",
    "#### Kódování reálných čísel\n",
    "Tohle už je trochu oříšek. Když bychom se snažili rozšířit binární zápis do záporných exponentů, podobně jako zapisujeme čísla v desítkové soustavě, narazíme na to, že desetinných čísel, které mají v desítkový soustavě konečný rozvoj, mají nekonečný rozvoj ve dvojkové soustavě (např. číslo 0,3). \n",
    "To vede k jisté nepřesnosti při reprezentaci reálných čísel. Tyto nepřesnosti jsou ale velmi malé a pro naše využití nebudou hrát roli. \n",
    "\n",
    "#### Pár příkladů\n",
    "* desítková reprezentace binárního čísla 11: `3`\n",
    "* binární reprezentace čísla 11: `1011`\n",
    "* binární reprezentace textového řetězce \"11\" podle ASCII kódování: `0011000100110001`\n",
    "* desítková reprezentace binárního čísla 0011000100110001: `12593`"
   ]
  },
  {
   "cell_type": "markdown",
   "id": "83a3cfa0",
   "metadata": {},
   "source": [
    "### Řešené příklady"
   ]
  },
  {
   "cell_type": "markdown",
   "id": "c6ca2840",
   "metadata": {},
   "source": [
    " \n",
    "1. Napište program, který se zeptá uživatele na kladné číslo a spočítá obvod a obsah čtverce, který má délku strany rovnou zadané hodnotě."
   ]
  },
  {
   "cell_type": "code",
   "execution_count": null,
   "id": "e59a06ba",
   "metadata": {},
   "outputs": [
    {
     "name": "stdout",
     "output_type": "stream",
     "text": [
      "Obvod čtverce je 168.0 a obsah je 1764.0\n"
     ]
    }
   ],
   "source": [
    "strana_ctverce = float(input(\"Zadej délku strany čtverce: \")) # zde jsem zvolila float, aby bylo možné zadat i desetinné číslo\n",
    "obvod = 4*strana_ctverce  \n",
    "obsah = strana_ctverce**2\n",
    "print(f\"Obvod čtverce je {obvod} a obsah je {obsah}\")"
   ]
  },
  {
   "cell_type": "markdown",
   "id": "79f49996",
   "metadata": {},
   "source": [
    "Menší problém - nic nebrání zadat uživateli záporné číslo. Řešení pro pokročilé: "
   ]
  },
  {
   "cell_type": "code",
   "execution_count": null,
   "id": "b9f27f92",
   "metadata": {},
   "outputs": [
    {
     "name": "stdout",
     "output_type": "stream",
     "text": [
      "Toto není kladné číslo!\n"
     ]
    }
   ],
   "source": [
    "strana_ctverce = float(input(\"Zadej délku strany čtverce: \")) \n",
    "if strana_ctverce > 0:\n",
    "    obvod = 4*strana_ctverce  \n",
    "    obsah = strana_ctverce**2\n",
    "    print(f\"Obvod čtverce je {obvod} a obsah je {obsah}\")\n",
    "else:\n",
    "    print(\"Strana čtverce musí být kladné číslo!\")"
   ]
  },
  {
   "attachments": {
    "image.png": {
     "image/png": "[encoded data removed]"
    }
   },
   "cell_type": "markdown",
   "id": "1b740136",
   "metadata": {},
   "source": [
    "2. Napište program, který se zeptá uživatele na kladné číslo a spočítá obvod a obsah pravidelného pětiúhelníku, který má délku strany rovnou zadané hodnotě.\n",
    "\n",
    "![image.png](attachment:image.png)\n",
    "\n",
    "Nápověda: odmocnina se dá spočítat pomocí obecné mocniny."
   ]
  },
  {
   "cell_type": "code",
   "execution_count": 5,
   "id": "a95b883e",
   "metadata": {},
   "outputs": [
    {
     "name": "stdout",
     "output_type": "stream",
     "text": [
      "Obvod pětiúhelníku je 10.0 a obsah je 6.881909602355868\n"
     ]
    }
   ],
   "source": [
    "strana_petiuhelniku = float(input(\"Zadej délku strany pětiúhelníku: \")) \n",
    "if strana_petiuhelniku > 0:\n",
    "    obvod = 5*strana_petiuhelniku  \n",
    "    obsah= (1/4) * (25+10*5**(1/2))**(1/2) * strana_petiuhelniku**2 # vzorec pro obsah pravidelného pětiúhelníku\n",
    "    print(f\"Obvod pětiúhelníku je {obvod} a obsah je {obsah}\")      \n",
    "else:\n",
    "    print(\"Strana pětiúhelníku musí být kladné číslo!\")"
   ]
  },
  {
   "attachments": {
    "image.png": {
     "image/png": "[encoded data removed]"
    }
   },
   "cell_type": "markdown",
   "id": "b40e1954",
   "metadata": {},
   "source": [
    " 3. a) Napište program, který se zeptá uživatele na jeho výšku a hmotnost. Následně spočítá a vypíše příslušnou hodnotu BMI indexu.\n",
    "\n",
    " ![image.png](attachment:image.png)"
   ]
  },
  {
   "cell_type": "code",
   "execution_count": null,
   "id": "e2170a63",
   "metadata": {},
   "outputs": [],
   "source": [
    "vyska = float(input(\"Zadej svou výšku v metrech: \"))\n",
    "hmotnost = float(input(\"Zadej svou hmotnost v kilogramech: \"))\n",
    "bmi = hmotnost / vyska**2   \n",
    "print(f\"Tvé BMI je {bmi}\")"
   ]
  },
  {
   "cell_type": "markdown",
   "id": "c3f96731",
   "metadata": {},
   "source": [
    "Přidám ještě jednoduché ověření vstupů"
   ]
  },
  {
   "cell_type": "code",
   "execution_count": null,
   "id": "62e45182",
   "metadata": {},
   "outputs": [
    {
     "name": "stdout",
     "output_type": "stream",
     "text": [
      "Výška musí být kladné číslo!\n"
     ]
    }
   ],
   "source": [
    "vyska = float(input(\"Zadej svou výšku v metrech: \"))    \n",
    "if vyska <= 0:\n",
    "    print(\"Výška musí být kladné číslo!\")\n",
    "else:  \n",
    "    hmotnost = float(input(\"Zadej svou hmotnost v kilogramech: \"))\n",
    "    if hmotnost <= 0:\n",
    "        print(\"Hmotnost musí být kladné číslo!\")    \n",
    "    else:    \n",
    "        bmi = hmotnost / vyska**2   \n",
    "        print(f\"Tvé BMI je {bmi}\") \n",
    "# vidíte tady ovšem, že pokud je hodnot k ověření více, kód se dost \"zanořuje\" a začíná to být chaos a zmar. "
   ]
  },
  {
   "cell_type": "markdown",
   "id": "78049f03",
   "metadata": {},
   "source": [
    " 3. b) Rozšiřte předchozí program tak, aby vypsal, jaké je rozmezí optimální (normální) hmotnosti uživatele při jeho výšce."
   ]
  },
  {
   "cell_type": "code",
   "execution_count": 10,
   "id": "5b914e50",
   "metadata": {},
   "outputs": [
    {
     "name": "stdout",
     "output_type": "stream",
     "text": [
      "Tvé BMI je 21.5. Pro tvou výšku je optimální hmotnost v rozmezí od 47.4 do 63.7 kg.\n"
     ]
    }
   ],
   "source": [
    "vyska = float(input(\"Zadej svou výšku v metrech: \"))\n",
    "hmotnost = float(input(\"Zadej svou hmotnost v kilogramech: \"))\n",
    "bmi = hmotnost / vyska**2 \n",
    "# zdrave rozmezi BMI je 18.5 - 24.9\n",
    "min_hmotnost = 18.5 * vyska**2  \n",
    "max_hmotnost = 24.9 * vyska**2\n",
    "print(f\"Tvé BMI je {bmi:.1f}. Pro tvou výšku je optimální hmotnost v rozmezí od {min_hmotnost:.1f} do {max_hmotnost:.1f} kg.\")"
   ]
  },
  {
   "cell_type": "markdown",
   "id": "7b0e37bd",
   "metadata": {},
   "source": []
  }
 ],
 "metadata": {
  "kernelspec": {
   "display_name": "Python 3",
   "language": "python",
   "name": "python3"
  },
  "language_info": {
   "codemirror_mode": {
    "name": "ipython",
    "version": 3
   },
   "file_extension": ".py",
   "mimetype": "text/x-python",
   "name": "python",
   "nbconvert_exporter": "python",
   "pygments_lexer": "ipython3",
   "version": "3.11.9"
  }
 },
 "nbformat": 4,
 "nbformat_minor": 5
}

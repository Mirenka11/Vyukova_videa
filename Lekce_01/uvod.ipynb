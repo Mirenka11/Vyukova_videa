{
 "cells": [
  {
   "cell_type": "markdown",
   "id": "b2ce7d80",
   "metadata": {},
   "source": [
    "## Co se to vlastně učíme?"
   ]
  },
  {
   "cell_type": "markdown",
   "id": "f38fc88f",
   "metadata": {},
   "source": [
    "**Počítačový program** je posloupnost instrukcí, která popisuje realizaci dané úlohy počítačem.\n",
    "Aby počítač mohl vykonávat nějakou činnost, potřebuje mít ve své operační paměti alespoň jeden program.\n",
    "V současné době je v počítači základním programem jádro operačního systému, které řídí jeho chod a umožňuje uživateli spouštět další programy (aplikační software).\n",
    "\n",
    "**Algoritmus** je potom postup řešení nějaké zadané úlohy, nemusí ale nutně běžet na počítači. Algoritmem je například i recept, návod k sestavení IKEA nábytku, pravidla deskové hry, nebo cokoli jiného, popisující nějakou posloupnost kroků a pravidel. Základní požadavky na algoritmus:\n",
    "* skládá se z konečného počtu jednoduchých (elementárních) kroků\n",
    "* musí někdy doběhnout do konce\n",
    "* je univerzální - tedy neřeší jeden konkrétní problém (jak si udělat večeři v pátek, 21.9. ve 20:00), ale celou třídu problémů (jak usmažit mražené hranolky)\n",
    "* každý krok je jednoznačně definován - v každém okamžiku je jasné, co bude následovat (těch možností může být více, ale dle nějakých pravidel se musí vybrat jediná, např. podle toho, na jaké pole hrací plochy hráč došel se provede určitá akce)\n",
    "* má alespoň jeden výstup (např. hranolky, výsledek nějaké numerické úlohy, vítěz hry, ...)\n",
    "\n",
    "**Příklad algoritmu** - návod na přípravu mražených hranolek pomocí metody deep-fry: \n",
    "1. Máš hrnec o objemu alespoň 2,2 l?\n",
    "    * pokud ano, pokračuj ke kroku 2\n",
    "    * pokud ne, můžeš použít jinou varnou nádobu o objemu alespoň 2,2 l?\n",
    "        - pokud ano, potom *hrnec* = *tvá varná nádoba*\n",
    "        - pokud ne, abort mission\n",
    "2. Zkontroluj si, zda máš: alespoň 1 kg hranolek `and` alespoň 1 l oleje na smažení `and` sůl `and` další koření, které chceš na hranolky dát\n",
    "3. Chybí ti něco?\n",
    "    * pokud ano, jdi to koupit\n",
    "    * pokud ne, pokračuj k dalšímu kroku   \n",
    "4. vezmi *hrnec* \n",
    "5. Postav *hrnec* na sporák\n",
    "6. Nalij do *hrnce* 1 l oleje\n",
    "7. Zapni sporák na maximální výkon\n",
    "8. Čekej, než teplota oleje dosáhne 175 °C\n",
    "9. Nasyp do *hrnce* 1 kg hranolek\n",
    "10. Čekej, dokud teplota oleje nedosáhne 160 °C\n",
    "11. Pohledem zkontroluj, jestli mají hranolky barvu, kterou chceš\n",
    "    * pokud ano, pokračuj ke kroku 12\n",
    "    * pokud ne, počkej 1 minutu a zopakuj krok 11\n",
    "12. Vyndej hranolky z *hrnce*\n",
    "13. Posyp hranolky solí\n",
    "14. Chceš přidat další koření? \n",
    "    * pokud ano, přidej ho\n",
    "    * pokud ne, pokračuj ke kroku 15\n",
    "15. Tadá! Máš hranolky\n",
    "\n"
   ]
  },
  {
   "cell_type": "markdown",
   "id": "aad114a0",
   "metadata": {},
   "source": [
    "### Programovací jazyky"
   ]
  },
  {
   "cell_type": "markdown",
   "id": "313d6afb",
   "metadata": {},
   "source": [
    "Programovací jazyk je prostředek pro zápis algoritmů tak, aby je počítač \"pochopil\" a mohl je interpretovat. Programovacích jazyků existuje celá řada a mají svá specifika. Liší se např. \n",
    "* mírou abstrakce (\"jak velký\" je elementární krok)\n",
    "    - nízkoúrovňový sestává z jednoduchých operací (sčítání čísel, přesouvání obsahu paměti, ...)\n",
    "    - vysokoúrovňový jazyk může v jednom příkazu \"schovávat\" i několik desítek kroků, které by bylo potřeba psát v nízkoúrovňovém jazyce \n",
    "* způsobem vykonání kódu \n",
    "    - kompilované: přečtou celý program, ten přeloží do strojového kódu a následně jej provedou\n",
    "    - interpretované: provádí kód řádek po řádku \n",
    "* využitím a specializací (v assembly nebo C byste nechtěli zpracovávat data z lab. měření, ale použijete spíš Matlab nebo Python, dále např. SQL je určené pro práci s databázemi, Minecraftí redstone je pro automatizaci činností ve hře, ...) \n",
    "\n",
    "**Python** je vysokoúrovňový, interpretovaný a univerzální jazyk, který je velmi \"beginner-friendly\". \n",
    "Prostředí jazyka Python se skládá z mnoha komponent:\n",
    "* samotný programovací jazyk\n",
    "* interpret jazyka a sada dalších nástrojů (interaktivní shell, jednoduché IDE, atd.)\n",
    "* standardní knihovna (sada modulů obsahující spoustu užitečných funkcí, tříd a dalších objektů)\n",
    "* systém pro správu a distribucí balíčků (uživatelské knihovny a programy)\n",
    "* dokumentace\n",
    "\n",
    "Jazyk Python lze použít mnoha způsoby:\n",
    "* interaktivní práce v konzoli nebo tzv. shellu (příkazový řádek fungující na principu REPL – read-evaluate-print loop)\n",
    "* skriptování – tvorba velmi jednoduchých programů, které automatizují práci v operačním systému (např. kopírování nebo přejmenování souborů)\n",
    "* tvorba plnohodnotných programů (aplikací)\n",
    "* hybridní užití v systémech se zabudovaným interpretem jazyka Python (např. prostředí Jupyter - to používáme tady)"
   ]
  },
  {
   "cell_type": "markdown",
   "id": "8a6ba100",
   "metadata": {},
   "source": [
    "### Ještě pár důležitých pojmů\n",
    "* slovem **příkaz** či **funkce** budeme rozumět nějaké slovo, které má v programovacím jazyce jistou funkci. Je to taková naše slovní zásoba, kterou počítači můžeme \"komunikovat\" své instrukce. \"Funkce\" se častěji používá pro nějakou uživatelsky definovanou sekvenci kroků, \"příkazy\" jsou pak již v jazyce vestavěné funkce (ale nikdo vám neutrhne hlavu, když tyto dva termíny zaměníte)\n",
    "* **proměnná** je podobně jako v matematice zástupný symbol pro nějakou hodnotu. Pomocí názvů proměnných přistupujeme k datům uloženým v paměti.\n",
    "* **operátor** je, opět podobně jako v matemtice, nějaké zobrazení vstupních hodnot na výstupní (např. sčítání či porovnávání). Stejně jako v matematice mají svůj \"definiční obor\", tedy množinu hodnot, se kterými umí pracovat (dělění písmen je blbina, dělí se čísla a ještě dělitel nesmí být nula), a \"obor hodnot\", tedy množinu hodnot, která může být jejich výstupem (dělení čísel dá opět číslo, porovnání dvou čísel dá výsledek \"pravda\"/\"nepravda\", ale nic jiného)\n",
    "* **syntax** představuje soubor pravidel, jak používat příkazy a operátory (podobně jako třeba v češtině máme gramatická pravidla a v matematice používáme dohodnuté značení)"
   ]
  },
  {
   "cell_type": "markdown",
   "id": "d99f01ca",
   "metadata": {},
   "source": [
    "## Tak si pojďme něco napsat"
   ]
  },
  {
   "cell_type": "markdown",
   "id": "83e1c2fc",
   "metadata": {},
   "source": [
    "Výpis pomocí příkazu `print`\n",
    "* \"definiční obor\" je jakýkoli znak, řetězec znaků či číslo\n",
    "* \"obor hodnot\" je prázdný, jejím výsledkem je pouze výpis textu"
   ]
  },
  {
   "cell_type": "code",
   "execution_count": null,
   "id": "d9aeaa33",
   "metadata": {},
   "outputs": [],
   "source": [
    "print(\"Ahoj ZPRO!\")\n",
    "print(42)\n",
    "\n",
    "# hodnot může být i více najednou\n",
    "print(69, \"nice\")\n",
    "\n",
    "# protože číselné operace mají za výsledek číslo, \"poradí\" si print i s nimi\n",
    "print(6*7)"
   ]
  },
  {
   "cell_type": "markdown",
   "id": "8ee08ea0",
   "metadata": {},
   "source": [
    "### Proměnné\n",
    "**Proměnné** používáme k \"pojmenovávání\" hodnot uložených v paměti\n",
    "#### Pravidla pro pojmenovávání proměnných\n",
    "* nesmíte jako název proměnné použít název příkazu, operátoru, či jiného vyhrazeného pojmenování (např. `print`, `and`, `+`, `True`)\n",
    "* nepojmenovávejte si dvě proměnné stejně, přepsali byste si uložená data\n",
    "* v Pythonu je dobrým zvykem používat názvy proměnných tak, aby vystihovaly význam uložené hodnoty. Pokud má název proměnné více slov, používá se mezi nimi zpravidla \"_\". \n",
    "\n",
    "#### Něco málo k datovým typům\n",
    "V počítači se všechno ukládá jako sekvence jedniček a nul, například \"1100001\" může představovat jak číslo 97, tak písmeno \"a\". Ve většině programovacích jazyků je potřeba specifikovat, jaký je tzv. **datový typ** dané hodnoty, tedy např. jestli se jedná právě o číslo, nebo o písmeno, a jak má tedy program s takovou hodnotou zacházet, jaké jsou dovolené operace atd.\n",
    "Python je naštěstí \"chytrý\" a o tuhle klasifikaci se stará sám, takže se s tím teď nemusíme zabývat a o jednotlivých datových typech si podrobně povíme později. Zatím si vystačíme se čtyřmi základními: \n",
    "* `int` představuje celé číslo, lze s ním tedy provádět matematické operace\n",
    "* `float` je desetinné číslo, opět můžete provádět matematické operace, je navíc typem výstupní hodnoty dělení (i pokud byl vstup typu *int*)\n",
    "* `str` je řetězec znaků\n",
    "* `bool` je pravdivostní hodnota, může nabývat hodnot `True`a `False`"
   ]
  },
  {
   "cell_type": "code",
   "execution_count": null,
   "id": "12ce1954",
   "metadata": {},
   "outputs": [],
   "source": [
    "draha = 100 # km\n",
    "cas = 2 # h\n",
    "prumerna_rychlost = draha / cas # km/h\n",
    "\n",
    "print(\"Průměrná rychlost je\", prumerna_rychlost, \"km/h\") \n",
    "# vidíte, že ačkoli je výsledek celé číslo, Python ho vypíše jako desetinné číslo, protože výsledek dělení je typu float\n",
    "\n",
    "# protip: formátovaný řetězec\n",
    "print(f\"Průměrná rychlost je {prumerna_rychlost:.0f} km/h\") \n",
    "# pomocí {} řekneme Pythonu, že tam chceme vypsat hodnotu proměnné\n",
    "# : .0f znamená, že chceme číslo vypsat jako desetinné číslo, v tomto případě s 0 desetinnými místy\n",
    "\n",
    "# pokud píšete protokol v LaTeXu, může se vám hodit:\n",
    "print(f\"Průměrná rychlost je ${prumerna_rychlost:.0f}\\\\unit{{km\\cdot h^{{-1}}}}$\") \n",
    "# výstup připravený pro vložení do vašeho LaTeX dokumentu\n",
    "\n",
    "# datový typ float lze převést na int pomocí funkce int():\n",
    "prumerna_rychlost_int = int(prumerna_rychlost)\n",
    "print(f\"původní datový typ: {type(prumerna_rychlost)}\")\n",
    "print(f\"nový datový typ: {type(prumerna_rychlost_int)}\")"
   ]
  },
  {
   "cell_type": "markdown",
   "id": "548a9234",
   "metadata": {},
   "source": [
    "Další příkaz, který si ukážeme, je `input`, díky kterému můžete do proměnných vkládat hodnoty za běhu programu"
   ]
  },
  {
   "cell_type": "code",
   "execution_count": null,
   "id": "35b39536",
   "metadata": {},
   "outputs": [],
   "source": [
    "# po spuštění tohoto programu se vám zobrazí výzva k zadání hodnoty\n",
    "draha = float(input(\"Zadej dráhu v km: \")) # tady už musíme specifikovat, jaký datový typ chceme\n",
    "cas = float(input(\"Zadej čas v h: \"))\n",
    "\n",
    "prumerna_rychlost = draha / cas\n",
    "print(f\"Průměrná rychlost je {prumerna_rychlost} km/h\")"
   ]
  },
  {
   "cell_type": "markdown",
   "id": "ae92208c",
   "metadata": {},
   "source": [
    "### Poznámka k zadávání vstupů\n",
    "Při zadávání vstupů je třeba dbát na to, aby uživatel zadal hodnoty, které pro danou úlohu dávají smysl (např. kladný čas), a pokud tak neučiní, aby program buď ukončil běh s odpovídající chybovou hláškou, případně aby zopakoval výzvu k zadání správné hodnoty. To si ale ukážeme později, až budeme umět řešit podmínky."
   ]
  },
  {
   "cell_type": "markdown",
   "id": "a2e43c10",
   "metadata": {},
   "source": []
  }
 ],
 "metadata": {
  "kernelspec": {
   "display_name": "Python 3",
   "language": "python",
   "name": "python3"
  },
  "language_info": {
   "codemirror_mode": {
    "name": "ipython",
    "version": 3
   },
   "file_extension": ".py",
   "mimetype": "text/x-python",
   "name": "python",
   "nbconvert_exporter": "python",
   "pygments_lexer": "ipython3",
   "version": "3.11.9"
  }
 },
 "nbformat": 4,
 "nbformat_minor": 5
}

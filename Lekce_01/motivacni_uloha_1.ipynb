{
 "cells": [
  {
   "cell_type": "markdown",
   "id": "850588f2",
   "metadata": {},
   "source": [
    "## Zadání úlohy:\n",
    "Po dráze se rovnoměrně přímočaře pohybuje vozíček. Každou sekundu je pomocí detektoru zaznamenána jeho poloha s přesností na 1 cm (musela jsem to trochu nastřelit, jinak by nebyly pořádně vidět errorbary).\n",
    "\n",
    "Určete rychlost vozíčku.\n",
    "\n",
    "(Okey tahle úloha je hoodně stupid, žádnej příčetnej člověk by to neměřil takhle)"
   ]
  },
  {
   "cell_type": "markdown",
   "id": "3ec2e1e5",
   "metadata": {},
   "source": [
    "### Import užitečných knihoven"
   ]
  },
  {
   "cell_type": "code",
   "execution_count": null,
   "id": "553ebd10",
   "metadata": {},
   "outputs": [],
   "source": [
    "import pandas as pd # načítání dat (also datové kontejnery, ale já mám radši numpy)\n",
    "import numpy as np # matematické operace, lepší datové kontejnery, ...\n",
    "from scipy import optimize # fitování\n",
    "import matplotlib.pyplot as plt #grafy\n",
    "import math # matematické operace a konstanty\n",
    "from uncertainties import ufloat # práce s daty zatíženými chybou\n",
    "from decimal import Decimal # zpoužijeme při zaokrouhlování na jednu platnou cifru"
   ]
  },
  {
   "cell_type": "code",
   "execution_count": null,
   "id": "a400669b",
   "metadata": {},
   "outputs": [],
   "source": [
    "# Generování ukázkových dat - můžete ignorovat\n",
    "np.random.seed(42)  # setup pro náhodné chyby\n",
    "time = np.arange(50)  # [s]\n",
    "true_speed = 4.2  # [cm/s]\n",
    "\n",
    "error_factor = np.random.uniform(-0.25, 0.25, size=time.shape)\n",
    "distance = true_speed * time + (true_speed * error_factor)\n",
    "\n",
    "# Uložení dat do Excelu\n",
    "pd.DataFrame({\"t [s]\": time, \"s [cm]\": distance}).to_excel(\"motivacni_uloha_1_data.xlsx\", index=False)"
   ]
  },
  {
   "cell_type": "markdown",
   "id": "8756178c",
   "metadata": {},
   "source": [
    "### Pomocné funkce"
   ]
  },
  {
   "cell_type": "code",
   "execution_count": null,
   "id": "b0826c0d",
   "metadata": {},
   "outputs": [],
   "source": [
    "# =========================== FUNKCE PRO FITOVÁNÍ =====================================\n",
    "def linear_fit(x:float, a:float, b:float)->float: \n",
    "    \"\"\"Lineárni funkce y = a*x + b\n",
    "    Args:\n",
    "        x (int / float): bod vycislovani (namerena hodnota)\n",
    "        a (int / float): koeficient\n",
    "        b (int / float): konstanta\n",
    "    Returns:\n",
    "        float: hodnota linearni funkce s predpisem y = a*x + b v bode x\n",
    "    \"\"\"\n",
    "    return a*x + b\n",
    "\n",
    "# ======================== ZAOKROUHLOVANI NA JEDNU PLATNOU CIFRU =======================\n",
    "def remove(n): # pomocna funkce pro round_to_reference - odstrani desetinnou část, pokud je n celé číslo\n",
    "    if Decimal(n) == Decimal(n).to_integral():\n",
    "        return int(n) \n",
    "    else: return n\n",
    "\n",
    "def round_to_reference(x:float, y:float)->tuple[float, float]:\n",
    "    \"\"\"Zaokrouhleni vstupnich hodnot x a y na jednu platnou cifru podle y\n",
    "    Args:\n",
    "        x (float): hodnota k zaokrouhleni (namerena data)\n",
    "        y (float): chyba mereni\n",
    "\n",
    "    Returns:\n",
    "        (float, float): hodnoty x a y zaokrouhlede na jednu platnou cifru podle y\n",
    "    \"\"\"\n",
    "    pozice_platne_cifry = -int(np.floor(np.log10(y)))\n",
    "    return remove(round(x, pozice_platne_cifry)), \\\n",
    "        remove(round(y, pozice_platne_cifry))"
   ]
  },
  {
   "cell_type": "markdown",
   "id": "d5bdb8d8",
   "metadata": {},
   "source": [
    "### Načítání dat"
   ]
  },
  {
   "cell_type": "code",
   "execution_count": null,
   "id": "15b69aec",
   "metadata": {},
   "outputs": [],
   "source": [
    "data = pd.read_excel(\"motivacni_uloha_1_data.xlsx\")\n",
    "\n",
    "presnost_draha = 1 # [cm], přesnost měření dráhy\n",
    "\n",
    "cas = np.array(data[\"t [s]\"]) # [s]\n",
    "draha = np.array([ufloat(d, presnost_draha) for d in data[\"s [cm]\"]])  # započítání chyby měření\n"
   ]
  },
  {
   "cell_type": "markdown",
   "id": "2890cb71",
   "metadata": {},
   "source": [
    "### Získání rychlosti poprvé - pomocí výpočtu\n"
   ]
  },
  {
   "cell_type": "code",
   "execution_count": null,
   "id": "8f502edf",
   "metadata": {},
   "outputs": [],
   "source": [
    "rychlost = np.array([])\n",
    "# počítáme rychlost v každém úseku mezi dvěma měřeními (pro fajnšmekry: tohle je v podstatě zpětná diference)\n",
    "for i in range(len(draha)-1): \n",
    "    rychlost_v_useku = (draha[i+1] - draha[i]) / (cas[i+1] - cas[i])\n",
    "    rychlost = np.append(rychlost, rychlost_v_useku)\n",
    "\n",
    "# zaokrouhlení na jednu platnou cifru\n",
    "prumerna_rychlost = round_to_reference(np.mean(rychlost).n, np.mean(rychlost).s) \n",
    "# .n a .s jsou atributy ufloat, n je hodnota, s je chyba\n",
    "\n",
    "# výpis v LaTeX formátu\n",
    "print(f\"v=({prumerna_rychlost[0]}\\\\pm {prumerna_rychlost[1]})\\\\unit{{cm\\\\cdot s^{{-1}}}}\")"
   ]
  },
  {
   "cell_type": "markdown",
   "id": "a878fedc",
   "metadata": {},
   "source": [
    "#### Graf - histogram naměřených rychlostí"
   ]
  },
  {
   "cell_type": "code",
   "execution_count": null,
   "id": "7204718e",
   "metadata": {},
   "outputs": [],
   "source": [
    "fig=plt.figure(figsize=(8,5))\n",
    "plt.hist([v.n for v in rychlost], # data\n",
    "         bins=13, # počet sloupců - je na vaší volbě\n",
    "         color=\"darkviolet\", edgecolor='black', alpha=0.6) # kosmetické úpravy (barva, okraje, průhlednost)\n",
    "plt.xlabel('$v~\\mathrm{[cm\\cdot s^{-1}]}$')\n",
    "plt.ylabel('Počet výskytů')\n",
    "plt.show()\n",
    "fig.savefig(\"motivacni_uloha_1_histogram.pdf\")"
   ]
  },
  {
   "cell_type": "markdown",
   "id": "4babd514",
   "metadata": {},
   "source": [
    "### Získání rychlosti podruhé: fitování"
   ]
  },
  {
   "cell_type": "code",
   "execution_count": null,
   "id": "b4bbbb80",
   "metadata": {},
   "outputs": [],
   "source": [
    "hodnoty_drahy = np.array([d.n for d in draha])\n",
    "zaokrouhlene_drahy = []\n",
    "\n",
    "# Fitování dat\n",
    "params, covariance = optimize.curve_fit(linear_fit, cas, hodnoty_drahy)\n",
    "errors = np.sqrt(np.diag(covariance))  # odhad chyb parametrů z diagonály kovarianční matice\n",
    "\n",
    "# důvod proč volím optimize.curve_fit() namísto jiné funkce přímo pro lineární fit je ten,\n",
    "# že optimize.curve_fit() je mnohem univerzálnější a lze jej použít pro jakoukoli jinou funkci\n",
    "# např. polynom, exponenciálu, cosinus, atd. - je to na vás, jakou funkci si nadefinujete\n",
    "\n",
    "for j in range(len(params)): # zaokrouhleni na jednu platnou cifru\n",
    "    zaokrouhlene_drahy.append(round_to_reference(params[j], errors[j]))\n",
    "\n",
    "# Výpis výsledků fitování v LaTeX formátu\n",
    "print(f\"Fit: $d=({zaokrouhlene_drahy[0][0]}\\\\pm {zaokrouhlene_drahy[0][1]})\\\\cdot t + ({zaokrouhlene_drahy[1][0]}\\\\pm {zaokrouhlene_drahy[1][1]})$\".replace(\".\",\",\"))\n",
    "\n",
    "print(f\"Rychlost vozíčku podle fitu je tedy $v=({zaokrouhlene_drahy[0][0]}\\\\pm {zaokrouhlene_drahy[0][1]})\\\\unit{{cm\\\\cdot s^{{-1}}}}$\".replace(\".\",\",\"))\n",
    "\n"
   ]
  },
  {
   "cell_type": "markdown",
   "id": "0ad0c542",
   "metadata": {},
   "source": [
    "### Vykreslení grafu s naměřenými daty a fitovanou přímkou\n"
   ]
  },
  {
   "cell_type": "code",
   "execution_count": null,
   "id": "20af6418",
   "metadata": {},
   "outputs": [],
   "source": [
    "x_fit = np.linspace(0, max(cas), 100)\n",
    "y_fit = linear_fit(x_fit, *params) \n",
    "\n",
    "fig=plt.figure(figsize=(10,6))\n",
    "plt.plot(x_fit, y_fit, color=\"seagreen\", label=f'Fit: $s=({zaokrouhlene_drahy[0][0]}\\pm {zaokrouhlene_drahy[0][1]})t + ({zaokrouhlene_drahy[1][0]}\\pm {zaokrouhlene_drahy[1][1]})$'.replace('.',','))\n",
    " \n",
    "plt.errorbar(cas, hodnoty_drahy, yerr=presnost_draha, \n",
    "             color='darkviolet', ecolor='black', \n",
    "             fmt='.', ms=3, capsize=3, elinewidth=1, label='Naměřená data')\n",
    "plt.xlabel('$t$ [s]')  \n",
    "plt.ylabel('$d$ [cm]')\n",
    "plt.title('Závislost dráhy na čase')\n",
    "plt.legend()\n",
    "plt.show()\n",
    "fig.savefig(\"motivacni_uloha_1_graf.pdf\")"
   ]
  },
  {
   "cell_type": "code",
   "execution_count": null,
   "id": "d73938c1",
   "metadata": {},
   "outputs": [],
   "source": []
  }
 ],
 "metadata": {
  "kernelspec": {
   "display_name": "Python 3",
   "language": "python",
   "name": "python3"
  },
  "language_info": {
   "codemirror_mode": {
    "name": "ipython",
    "version": 3
   },
   "file_extension": ".py",
   "mimetype": "text/x-python",
   "name": "python",
   "nbconvert_exporter": "python",
   "pygments_lexer": "ipython3",
   "version": "3.11.9"
  }
 },
 "nbformat": 4,
 "nbformat_minor": 5
}
